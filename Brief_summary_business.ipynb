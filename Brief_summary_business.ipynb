{
 "cells": [
  {
   "cell_type": "markdown",
   "id": "1a41e669-b6e8-4670-a588-edc96fdb6ecb",
   "metadata": {},
   "source": [
    "**Summary**\n"
   ]
  },
  {
   "cell_type": "markdown",
   "id": "7e3e9f97-e73e-4783-985d-e4691f0e36f8",
   "metadata": {},
   "source": [
    "We decided to scrap data from the yelp website. Our business idea is to open a bar similar to the famous \"ice bar\", located in Mitte Berlin, but a \"tropical bar\" which will imitate a tropical climate instead of a freezing cold one.\n",
    "We firstly scraped data according the weather prediction for dates that a user inputs. Then we managed to convert this data into a pandas dataframe. We did the same thing for your competitor, the ice bar, by getting data from the yelp site regarding reviews of the bar and cleaned it in order to use some useful parameters in a function we are planning to set about our pricing.\n",
    "Our business idea is to open a unique bar in berlin and price the products in a specific price range depending on our competitor and the weather forecasts.\n"
   ]
  },
  {
   "cell_type": "code",
   "execution_count": null,
   "id": "3af660e0-7b24-4ec9-9e07-93255d5fc3be",
   "metadata": {},
   "outputs": [],
   "source": []
  }
 ],
 "metadata": {
  "kernelspec": {
   "display_name": "Python 3 (ipykernel)",
   "language": "python",
   "name": "python3"
  },
  "language_info": {
   "codemirror_mode": {
    "name": "ipython",
    "version": 3
   },
   "file_extension": ".py",
   "mimetype": "text/x-python",
   "name": "python",
   "nbconvert_exporter": "python",
   "pygments_lexer": "ipython3",
   "version": "3.11.4"
  }
 },
 "nbformat": 4,
 "nbformat_minor": 5
}
