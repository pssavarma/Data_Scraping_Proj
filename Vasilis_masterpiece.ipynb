{
 "cells": [
  {
   "cell_type": "code",
   "execution_count": null,
   "id": "ef124a97-fd0d-48b0-9f7b-92393bc33c91",
   "metadata": {},
   "outputs": [
    {
     "name": "stdin",
     "output_type": "stream",
     "text": [
      "Enter the first date (yyyy-mm-dd):  2023-11-05\n"
     ]
    }
   ],
   "source": [
    "import requests\n",
    "import pandas as pd\n",
    "from datetime import datetime, timedelta\n",
    "date_str1 = input(\"Enter the first date (yyyy-mm-dd): \")\n",
    "date_str2 = input(\"Enter the second date (yyyy-mm-dd): \")\n",
    "\n",
    "date_format = \"%Y-%m-%d\"\n",
    "date1 = datetime.strptime(date_str1, date_format)\n",
    "date2 = datetime.strptime(date_str2, date_format)\n",
    "days_difference = (date2 - date1).days\n",
    "url = \"https://meteostat.p.rapidapi.com/point/daily\"\n",
    "\n",
    "querystring = {\"lat\":\"52.52\",\"lon\":\"13.405\",\"start\":date_str1,\"end\":date_str2,\"alt\":\"184\"}\n",
    "\n",
    "headers = {\n",
    "\t\"X-RapidAPI-Key\": \"647624aa1dmsh656f4c5b5e614f8p10bc1djsn052c2e87053a\",\n",
    "\t\"X-RapidAPI-Host\": \"meteostat.p.rapidapi.com\"\n",
    "}\n",
    "\n",
    "response = requests.get(url, headers=headers, params=querystring)\n",
    "\n",
    "weather_data=[]\n",
    "for i in range(days_difference): \n",
    "    weather_data.append([response.json()['data'][i]])\n",
    "\n",
    "list = [item for sublist in weather_data for item in sublist]\n",
    "df=pd.DataFrame(list)\n",
    "df"
   ]
  },
  {
   "cell_type": "code",
   "execution_count": null,
   "id": "4a061a7a-389e-4b3c-b56c-4d61d7472507",
   "metadata": {},
   "outputs": [],
   "source": []
  }
 ],
 "metadata": {
  "kernelspec": {
   "display_name": "Python 3 (ipykernel)",
   "language": "python",
   "name": "python3"
  },
  "language_info": {
   "codemirror_mode": {
    "name": "ipython",
    "version": 3
   },
   "file_extension": ".py",
   "mimetype": "text/x-python",
   "name": "python",
   "nbconvert_exporter": "python",
   "pygments_lexer": "ipython3",
   "version": "3.11.4"
  }
 },
 "nbformat": 4,
 "nbformat_minor": 5
}
