{
 "cells": [
  {
   "cell_type": "code",
   "execution_count": 1,
   "id": "1f9b345a-6429-4830-b8b7-ec37e949c053",
   "metadata": {},
   "outputs": [
    {
     "name": "stdout",
     "output_type": "stream",
     "text": [
      "Data has been saved to weather_data.json\n"
     ]
    }
   ],
   "source": [
    "import json\n",
    "import requests\n",
    "\n",
    "# Your existing code for fetching data\n",
    "url = \"https://meteostat.p.rapidapi.com/point/daily\"\n",
    "querystring = {\"lat\": \"43.6667\", \"lon\": \"-79.4\", \"start\": \"2023-11-09\", \"end\": \"2023-11-13\", \"alt\": \"184\"}\n",
    "headers = {\n",
    "    \"X-RapidAPI-Key\": \"0b7dafa3e3msh3e71cc491256873p10ffa7jsn8ba2872d4d8c\",\n",
    "    \"X-RapidAPI-Host\": \"meteostat.p.rapidapi.com\"\n",
    "}\n",
    "response = requests.get(url, headers=headers, params=querystring)\n",
    "\n",
    "# Save the data to a JSON file\n",
    "with open(\"weather_data.json\", \"w\") as json_file:\n",
    "    json.dump(response.json(), json_file)\n",
    "\n",
    "print(\"Data has been saved to weather_data.json\")"
   ]
  },
  {
   "cell_type": "code",
   "execution_count": 2,
   "id": "1d3d8b08-8372-424e-8516-a7836c5112dd",
   "metadata": {},
   "outputs": [
    {
     "name": "stdout",
     "output_type": "stream",
     "text": [
      "         date  tavg  tmin  tmax  prcp  snow   wdir  wspd  wpgt    pres  tsun\n",
      "0  2023-11-09   5.9   3.3   9.3   7.2  None  280.0  21.3  None  1008.3  None\n",
      "1  2023-11-10   4.8   1.5   7.8   0.0  None  273.0  25.2  None  1018.5  None\n",
      "2  2023-11-11   3.2   1.4   4.4   NaN  None  319.0  13.4  None  1027.6  None\n",
      "3  2023-11-12   2.5   1.2   4.2   NaN  None   40.0   7.0  None  1033.7  None\n",
      "4  2023-11-13   3.8   1.5   6.1   NaN  None  184.0   9.1  None  1033.8  None\n"
     ]
    }
   ],
   "source": [
    "import pandas as pd\n",
    "\n",
    "# Load the JSON data into a DataFrame\n",
    "with open(\"weather_data.json\", \"r\") as json_file:\n",
    "    data = json.load(json_file)\n",
    "\n",
    "df = pd.json_normalize(data[\"data\"])\n",
    "\n",
    "# Print the DataFrame\n",
    "print(df)\n"
   ]
  },
  {
   "cell_type": "code",
   "execution_count": null,
   "id": "2e49f27d-6fd0-4a2b-a0be-a94e6f447c12",
   "metadata": {},
   "outputs": [],
   "source": []
  }
 ],
 "metadata": {
  "kernelspec": {
   "display_name": "Python 3 (ipykernel)",
   "language": "python",
   "name": "python3"
  },
  "language_info": {
   "codemirror_mode": {
    "name": "ipython",
    "version": 3
   },
   "file_extension": ".py",
   "mimetype": "text/x-python",
   "name": "python",
   "nbconvert_exporter": "python",
   "pygments_lexer": "ipython3",
   "version": "3.11.4"
  }
 },
 "nbformat": 4,
 "nbformat_minor": 5
}
