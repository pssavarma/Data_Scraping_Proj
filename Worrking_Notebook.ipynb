{
 "cells": [
  {
   "cell_type": "code",
   "execution_count": null,
   "id": "1f9b345a-6429-4830-b8b7-ec37e949c053",
   "metadata": {},
   "outputs": [],
   "source": [
    "import requests\n",
    "\n",
    "def get_weather_data(api_key, lat, lon, exclude=''):\n",
    "    base_url = 'https://api.openweathermap.org/data/2.5/weather'\n",
    "    params = {\n",
    "        'lat': lat,\n",
    "        'lon': lon,\n",
    "        'exclude': exclude,\n",
    "        'appid': api_key,\n",
    "    }\n",
    "\n",
    "    try:\n",
    "        response = requests.get(base_url, params=params)\n",
    "        response.raise_for_status()  # Raise an error for bad responses\n",
    "\n",
    "        weather_data = response.json()\n",
    "        print(weather_data)\n",
    "    except requests.exceptions.HTTPError as err:\n",
    "        print(f\"HTTP Error: {err}\")\n",
    "    except Exception as e:\n",
    "        print(f\"An error occurred: {e}\")\n",
    "\n",
    "# Replace 'YOUR_API_KEY' with your actual OpenWeatherMap API key\n",
    "api_key = ''\n",
    "latitude = 52.5200\n",
    "longitude = 13.4050\n",
    "exclude = 'hourly,minutely'\n",
    "\n",
    "get_weather_data(api_key, latitude, longitude, exclude)"
   ]
  },
  {
   "cell_type": "code",
   "execution_count": 2,
   "id": "1d3d8b08-8372-424e-8516-a7836c5112dd",
   "metadata": {},
   "outputs": [
    {
     "name": "stdout",
     "output_type": "stream",
     "text": [
      "         date  tavg  tmin  tmax  prcp  snow   wdir  wspd  wpgt    pres  tsun\n",
      "0  2023-11-09   5.9   3.3   9.3   7.2  None  280.0  21.3  None  1008.3  None\n",
      "1  2023-11-10   4.8   1.5   7.8   0.0  None  273.0  25.2  None  1018.5  None\n",
      "2  2023-11-11   3.2   1.4   4.4   NaN  None  319.0  13.4  None  1027.6  None\n",
      "3  2023-11-12   2.5   1.2   4.2   NaN  None   40.0   7.0  None  1033.7  None\n",
      "4  2023-11-13   3.8   1.5   6.1   NaN  None  184.0   9.1  None  1033.8  None\n"
     ]
    }
   ],
   "source": []
  },
  {
   "cell_type": "code",
   "execution_count": null,
   "id": "6558a218-468a-4269-91d7-5446a233841b",
   "metadata": {},
   "outputs": [],
   "source": []
  }
 ],
 "metadata": {
  "kernelspec": {
   "display_name": "Python 3 (ipykernel)",
   "language": "python",
   "name": "python3"
  },
  "language_info": {
   "codemirror_mode": {
    "name": "ipython",
    "version": 3
   },
   "file_extension": ".py",
   "mimetype": "text/x-python",
   "name": "python",
   "nbconvert_exporter": "python",
   "pygments_lexer": "ipython3",
   "version": "3.11.4"
  }
 },
 "nbformat": 4,
 "nbformat_minor": 5
}
